{
 "cells": [
  {
   "cell_type": "markdown",
   "metadata": {},
   "source": [
    "# Binary Addition"
   ]
  },
  {
   "cell_type": "code",
   "execution_count": 9,
   "metadata": {},
   "outputs": [
    {
     "name": "stdout",
     "output_type": "stream",
     "text": [
      "1 + 1 = 10\n"
     ]
    }
   ],
   "source": [
    "public class BinaryAdd {\n",
    "    public static void main(String[] args) \n",
    "    {\n",
    "        String num1 = \"1\";\n",
    "        String num2 = \"1\";\n",
    "    \n",
    "        int number1 = Integer.parseInt(num1, 2);\n",
    "        int number2 = Integer.parseInt(num2, 2);\n",
    "    \n",
    "        int sum = number1 + number2;\n",
    "        System.out.println(num1 + \" + \" +  num2 + \" = \" + Integer.toBinaryString(sum));\n",
    "    \n",
    "    }\n",
    "}\n",
    "BinaryAdd.main(null);"
   ]
  },
  {
   "cell_type": "code",
   "execution_count": 1,
   "metadata": {},
   "outputs": [
    {
     "name": "stdout",
     "output_type": "stream",
     "text": [
      "1 + 1 = 10\n"
     ]
    }
   ],
   "source": [
    "public class Binary {\n",
    "   public static void main(String[] args)  \n",
    "   {\n",
    "    int i = 0, carry = 0;\n",
    "\n",
    "    int[] sum = new int[10];\n",
    "\n",
    "\n",
    "    int b1 = 1;\n",
    "    int b2 = 1;\n",
    "\n",
    "    while (b1 != 0 || b2 != 0) \n",
    "    {\n",
    "        sum[i++] = (int)((b1 % 10 + b2 % 10 + carry) % 2);\n",
    "        carry = (int)((b1 % 10 + b2 % 10 + carry) / 2);\n",
    "        b1 = b1 / 10;\n",
    "        b2 = b2 / 10;\n",
    "    }\n",
    "    if (carry != 0) {\n",
    "        sum[i++] = carry;\n",
    "    }\n",
    "    --i;\n",
    "    System.out.print(\"1 + 1 = \");\n",
    "    while (i >= 0) {\n",
    "        System.out.print(sum[i--]);\n",
    "    }\n",
    "    System.out.print(\"\\n\");\n",
    "   }\n",
    "}\n",
    "Binary.main(null);\n"
   ]
  },
  {
   "cell_type": "code",
   "execution_count": null,
   "metadata": {},
   "outputs": [],
   "source": []
  }
 ],
 "metadata": {
  "kernelspec": {
   "display_name": "Java",
   "language": "java",
   "name": "java"
  },
  "language_info": {
   "codemirror_mode": "java",
   "file_extension": ".jshell",
   "mimetype": "text/x-java-source",
   "name": "java",
   "pygments_lexer": "java",
   "version": "18.0.2+0"
  },
  "orig_nbformat": 4
 },
 "nbformat": 4,
 "nbformat_minor": 2
}

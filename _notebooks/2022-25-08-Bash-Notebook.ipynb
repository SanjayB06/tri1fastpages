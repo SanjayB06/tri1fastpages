{
 "cells": [
  {
   "cell_type": "code",
   "execution_count": null,
   "id": "8bf10042",
   "metadata": {},
   "outputs": [],
   "source": [
    "python --version\n",
    "python2 --version\n",
    "\n",
    "java --version\n",
    "javac --version\n",
    "\n",
    "conda --version\n",
    "conda list | grep \"jupyter\"\n",
    "\n",
    "jupyter --version\n",
    "jupyter kernelspec list\n",
    "\n",
    "sudo apt list\n",
    "\n",
    "npm -version\n"
   ]
  },
  {
   "cell_type": "code",
   "execution_count": null,
   "id": "baffdbcf",
   "metadata": {},
   "outputs": [],
   "source": []
  },
  {
   "cell_type": "code",
   "execution_count": null,
   "id": "b0b5064b",
   "metadata": {},
   "outputs": [],
   "source": []
  }
 ],
 "metadata": {
  "kernelspec": {
   "display_name": "Bash",
   "language": "bash",
   "name": "bash"
  },
  "language_info": {
   "codemirror_mode": "shell",
   "file_extension": ".sh",
   "mimetype": "text/x-sh",
   "name": "bash"
  }
 },
 "nbformat": 4,
 "nbformat_minor": 5
}

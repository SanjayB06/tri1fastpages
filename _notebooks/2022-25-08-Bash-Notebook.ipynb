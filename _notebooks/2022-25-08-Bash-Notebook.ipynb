{
 "cells": [
  {
   "cell_type": "markdown",
   "id": "19a9d409",
   "metadata": {},
   "source": [
    "# Bash Notebook"
   ]
  },
  {
   "cell_type": "code",
   "execution_count": 2,
   "id": "8bf10042",
   "metadata": {},
   "outputs": [
    {
     "name": "stdout",
     "output_type": "stream",
     "text": [
      "Python 3.9.12\n",
      "\n",
      "Python 2.7.18\n",
      "\n",
      "openjdk 18.0.2 2022-07-19\n",
      "OpenJDK Runtime Environment Homebrew (build 18.0.2+0)\n",
      "OpenJDK 64-Bit Server VM Homebrew (build 18.0.2+0, mixed mode, sharing)\n",
      "\n",
      "javac 18.0.2\n",
      "\n",
      "conda 4.13.0\n",
      "\n",
      "jupyter                   1.0.0            py39hecd8cb5_7  \n",
      "jupyter_client            6.1.12             pyhd3eb1b0_0  \n",
      "jupyter_console           6.4.0              pyhd3eb1b0_0  \n",
      "jupyter_core              4.9.2            py39hecd8cb5_0  \n",
      "jupyter_server            1.13.5             pyhd3eb1b0_0  \n",
      "jupyterlab                3.3.2              pyhd3eb1b0_0  \n",
      "jupyterlab_pygments       0.1.2                      py_0  \n",
      "jupyterlab_server         2.10.3             pyhd3eb1b0_1  \n",
      "jupyterlab_widgets        1.0.0              pyhd3eb1b0_1  \n",
      "\n",
      "Selected Jupyter core packages...\n",
      "IPython          : 8.2.0\n",
      "ipykernel        : 6.9.1\n",
      "ipywidgets       : 7.6.5\n",
      "jupyter_client   : 6.1.12\n",
      "jupyter_core     : 4.9.2\n",
      "jupyter_server   : 1.13.5\n",
      "jupyterlab       : 3.3.2\n",
      "nbclient         : 0.5.13\n",
      "nbconvert        : 6.4.4\n",
      "nbformat         : 5.3.0\n",
      "notebook         : 6.4.8\n",
      "qtconsole        : 5.3.0\n",
      "traitlets        : 5.1.1\n",
      "\n",
      "Available kernels:\n",
      "  bash          /Users/smb/Library/Jupyter/kernels/bash\n",
      "  java          /Users/smb/Library/Jupyter/kernels/java\n",
      "  javascript    /Users/smb/Library/Jupyter/kernels/javascript\n",
      "  python3       /Users/smb/opt/anaconda3/share/jupyter/kernels/python3\n",
      "\n",
      "6.4.1\n"
     ]
    }
   ],
   "source": [
    "python --version\n",
    "echo \"\"\n",
    "python2 --version\n",
    "\n",
    "echo \"\"\n",
    "java --version\n",
    "echo \"\"\n",
    "\n",
    "javac --version\n",
    "echo \"\"\n",
    "\n",
    "conda --version\n",
    "echo \"\"\n",
    "\n",
    "conda list | grep \"jupyter\"\n",
    "echo \"\"\n",
    "\n",
    "jupyter --version\n",
    "echo \"\"\n",
    "\n",
    "jupyter kernelspec list\n",
    "echo \"\"\n",
    "\n",
    "\n",
    "npm -version\n"
   ]
  },
  {
   "cell_type": "code",
   "execution_count": null,
   "id": "baffdbcf",
   "metadata": {},
   "outputs": [],
   "source": []
  },
  {
   "cell_type": "code",
   "execution_count": null,
   "id": "b0b5064b",
   "metadata": {},
   "outputs": [],
   "source": []
  }
 ],
 "metadata": {
  "kernelspec": {
   "display_name": "Bash",
   "language": "bash",
   "name": "bash"
  },
  "language_info": {
   "codemirror_mode": "shell",
   "file_extension": ".sh",
   "mimetype": "text/x-sh",
   "name": "bash"
  }
 },
 "nbformat": 4,
 "nbformat_minor": 5
}

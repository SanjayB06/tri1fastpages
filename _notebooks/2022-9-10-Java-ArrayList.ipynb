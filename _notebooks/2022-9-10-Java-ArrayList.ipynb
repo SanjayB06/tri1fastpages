{
 "cells": [
  {
   "cell_type": "markdown",
   "metadata": {},
   "source": [
    "# Java ArrayList"
   ]
  },
  {
   "cell_type": "markdown",
   "metadata": {},
   "source": [
    "# Definition\n",
    "\n",
    "An ArrayList is like an array that has more flexibility, so it can be resized and things can be added and removed after the array is created. No size limit, and it can have duplicate elements.\n",
    "\n"
   ]
  },
  {
   "cell_type": "code",
   "execution_count": 126,
   "metadata": {},
   "outputs": [
    {
     "name": "stdout",
     "output_type": "stream",
     "text": [
      "[barcelona, beat, real madrid, 4-0, last, year]\n"
     ]
    }
   ],
   "source": [
    "import java.util.ArrayList;\n",
    "\n",
    "  ArrayList<String> matches = new ArrayList<String>();\n",
    "  matches.add(\"barcelona\"); \n",
    "  matches.add(\"beat\"); \n",
    "  matches.add(\"real madrid\"); \n",
    "  matches.add(\"4-0\"); \n",
    "  matches.add(\"last\"); \n",
    "  matches.add(\"year\"); \n",
    "\n",
    "  System.out.println(matches);\n"
   ]
  },
  {
   "cell_type": "markdown",
   "metadata": {},
   "source": [
    "# Add and addAll\n",
    "\n",
    "Adding elements using add(). Can also be added at a certain index if specified. addAll() is used to add all the elements from one array to another.\n",
    "\n"
   ]
  },
  {
   "cell_type": "code",
   "execution_count": 127,
   "metadata": {},
   "outputs": [
    {
     "name": "stdout",
     "output_type": "stream",
     "text": [
      "[barcelona, easily, beat, real madrid, 4-0, last, year, .]\n"
     ]
    }
   ],
   "source": [
    "matches.add(\".\"); //adds the ! to the end of the arraylist\n",
    "matches.add(1, \"easily\"); //adds the word very to the list at index 4\n",
    "System.out.println(matches);\n"
   ]
  },
  {
   "cell_type": "markdown",
   "metadata": {},
   "source": [
    "# Size\n",
    "This returns the size of the list by using size().\n",
    "\n"
   ]
  },
  {
   "cell_type": "code",
   "execution_count": 128,
   "metadata": {},
   "outputs": [
    {
     "name": "stdout",
     "output_type": "stream",
     "text": [
      "[barcelona, easily, beat, real madrid, 4-0, last, year, ., barcelona, lost, to, liverpool, 4-3]\n"
     ]
    },
    {
     "data": {
      "text/plain": [
       "13"
      ]
     },
     "execution_count": 128,
     "metadata": {},
     "output_type": "execute_result"
    }
   ],
   "source": [
    "ArrayList<String> more_matches = new ArrayList<String>();\n",
    "more_matches.add(\"barcelona\");\n",
    "more_matches.add(\"lost\");\n",
    "more_matches.add(\"to\");\n",
    "more_matches.add(\"liverpool\");\n",
    "more_matches.add(\"4-3\"); //this is very true\n",
    "\n",
    "matches.addAll(more_matches); //adds the second list to the first one\n",
    "System.out.println(matches);\n",
    "\n",
    "matches.size(); "
   ]
  },
  {
   "cell_type": "markdown",
   "metadata": {},
   "source": [
    "# Remove (int index) and (element)\n",
    "This method remove(), removes an element from the index, it shifts the other elements and decreases index by the amount of elements removed. Can be used by removing the index number or the name of the element.\n",
    "\n"
   ]
  },
  {
   "cell_type": "code",
   "execution_count": 129,
   "metadata": {},
   "outputs": [
    {
     "name": "stdout",
     "output_type": "stream",
     "text": [
      "[barcelona, beat, real madrid, 4-0, last, year, ., barcelona, lost, to, liverpool, 4-3]\n"
     ]
    }
   ],
   "source": [
    "matches.remove(1); //you can see that the word \"are\" has been removed\n",
    "System.out.println(matches);\n"
   ]
  },
  {
   "cell_type": "code",
   "execution_count": 130,
   "metadata": {},
   "outputs": [
    {
     "name": "stdout",
     "output_type": "stream",
     "text": [
      "[barcelona, beat, real madrid, 4-0, last, year, ., barcelona, to, liverpool]\n"
     ]
    }
   ],
   "source": [
    "matches.remove(\"4-3\");\n",
    "matches.remove(\"lost\"); \n",
    "System.out.println(matches);\n"
   ]
  },
  {
   "cell_type": "markdown",
   "metadata": {},
   "source": [
    "# Get\n",
    "The get() method returns elements at the specific index.\n",
    "\n"
   ]
  },
  {
   "cell_type": "code",
   "execution_count": 131,
   "metadata": {},
   "outputs": [
    {
     "data": {
      "text/plain": [
       "barcelona"
      ]
     },
     "execution_count": 131,
     "metadata": {},
     "output_type": "execute_result"
    }
   ],
   "source": [
    "matches.get(0);\n"
   ]
  },
  {
   "cell_type": "markdown",
   "metadata": {},
   "source": [
    "# Set\n",
    "The set() method replaces an element at an index with another element\n",
    "\n"
   ]
  },
  {
   "cell_type": "code",
   "execution_count": 132,
   "metadata": {},
   "outputs": [
    {
     "name": "stdout",
     "output_type": "stream",
     "text": [
      "[barcelona, beat, real madrid, CF, last, year, ., barcelona, to, liverpool]\n"
     ]
    }
   ],
   "source": [
    "matches.set(3, new String(\"CF\"));\n",
    "System.out.println(matches);\n"
   ]
  },
  {
   "cell_type": "markdown",
   "metadata": {},
   "source": [
    "# IndexOf\n",
    "The indexOf() method returns when the element occurs first or -1 if its not there.\n",
    "\n"
   ]
  },
  {
   "cell_type": "code",
   "execution_count": 133,
   "metadata": {},
   "outputs": [
    {
     "data": {
      "text/plain": [
       "0"
      ]
     },
     "execution_count": 133,
     "metadata": {},
     "output_type": "execute_result"
    }
   ],
   "source": [
    "matches.indexOf(\"barcelona\");\n"
   ]
  },
  {
   "cell_type": "markdown",
   "metadata": {},
   "source": [
    "# lastIndexOf(element)\n",
    "This method returns the index of when the element comes up last, or -1 if its not in the list.\n",
    "\n"
   ]
  },
  {
   "cell_type": "code",
   "execution_count": 134,
   "metadata": {},
   "outputs": [
    {
     "data": {
      "text/plain": [
       "-1"
      ]
     },
     "execution_count": 134,
     "metadata": {},
     "output_type": "execute_result"
    }
   ],
   "source": [
    "matches.indexOf(\"chelsea\");\n"
   ]
  },
  {
   "cell_type": "markdown",
   "metadata": {},
   "source": [
    "# hashCode()\n",
    "Returns the hashcode value of a list, a hashcode is an integer value that corresponds with an object.\n",
    "\n"
   ]
  },
  {
   "cell_type": "code",
   "execution_count": 135,
   "metadata": {},
   "outputs": [
    {
     "data": {
      "text/plain": [
       "-1011032613"
      ]
     },
     "execution_count": 135,
     "metadata": {},
     "output_type": "execute_result"
    }
   ],
   "source": [
    "matches.hashCode();\n"
   ]
  },
  {
   "cell_type": "markdown",
   "metadata": {},
   "source": [
    "# isEmpty\n",
    "This method checks if the list is empty or not, and returns true or false if it is empty or not respectively.\n",
    "\n"
   ]
  },
  {
   "cell_type": "code",
   "execution_count": 136,
   "metadata": {},
   "outputs": [
    {
     "data": {
      "text/plain": [
       "false"
      ]
     },
     "execution_count": 136,
     "metadata": {},
     "output_type": "execute_result"
    }
   ],
   "source": [
    "matches.isEmpty();\n"
   ]
  },
  {
   "cell_type": "code",
   "execution_count": 137,
   "metadata": {},
   "outputs": [
    {
     "data": {
      "text/plain": [
       "false"
      ]
     },
     "execution_count": 137,
     "metadata": {},
     "output_type": "execute_result"
    }
   ],
   "source": [
    "more_matches.isEmpty();\n"
   ]
  },
  {
   "cell_type": "markdown",
   "metadata": {},
   "source": [
    "# contains(element)\n",
    "This checks if the list has a certain element, true if it does and false if it doesn't.\n",
    "\n"
   ]
  },
  {
   "cell_type": "code",
   "execution_count": 138,
   "metadata": {},
   "outputs": [
    {
     "data": {
      "text/plain": [
       "true"
      ]
     },
     "execution_count": 138,
     "metadata": {},
     "output_type": "execute_result"
    }
   ],
   "source": [
    "matches.contains(\"real madrid\");\n"
   ]
  },
  {
   "cell_type": "code",
   "execution_count": 139,
   "metadata": {},
   "outputs": [
    {
     "data": {
      "text/plain": [
       "false"
      ]
     },
     "execution_count": 139,
     "metadata": {},
     "output_type": "execute_result"
    }
   ],
   "source": [
    "matches.contains(\"inter\");\n"
   ]
  },
  {
   "cell_type": "markdown",
   "metadata": {},
   "source": [
    "# Sort\n",
    "This method sorts the elements of a list based on a comparator.\n",
    "\n"
   ]
  },
  {
   "cell_type": "code",
   "execution_count": 140,
   "metadata": {},
   "outputs": [
    {
     "name": "stdout",
     "output_type": "stream",
     "text": [
      "List : [barcelona, beat, real madrid, CF, last, year, ., barcelona, to, liverpool]\n",
      "Sorted List : [., CF, barcelona, barcelona, beat, last, liverpool, real madrid, to, year]\n"
     ]
    }
   ],
   "source": [
    "import java.util.Collections;\n",
    "\n",
    "System.out.println(\"List : \"+matches);\n",
    "\n",
    "//will sort the string according to alphabetical order\n",
    "Collections.sort(matches);\n",
    "System.out.println(\"Sorted List : \"+matches);\n"
   ]
  },
  {
   "cell_type": "code",
   "execution_count": 141,
   "metadata": {},
   "outputs": [
    {
     "name": "stdout",
     "output_type": "stream",
     "text": [
      "[]\n"
     ]
    }
   ],
   "source": [
    "matches.clear(); //clears all the elements in list \n",
    "System.out.println(matches); //they're all gone, how sad\n"
   ]
  }
 ],
 "metadata": {
  "kernelspec": {
   "display_name": "Java",
   "language": "java",
   "name": "java"
  },
  "language_info": {
   "codemirror_mode": "java",
   "file_extension": ".jshell",
   "mimetype": "text/x-java-source",
   "name": "java",
   "pygments_lexer": "java",
   "version": "18.0.2+0"
  },
  "orig_nbformat": 4
 },
 "nbformat": 4,
 "nbformat_minor": 2
}

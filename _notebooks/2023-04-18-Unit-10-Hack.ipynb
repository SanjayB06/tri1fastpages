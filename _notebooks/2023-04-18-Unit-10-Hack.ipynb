{
 "cells": [
  {
   "cell_type": "markdown",
   "metadata": {},
   "source": [
    "# Unit 10 Recursion\n"
   ]
  },
  {
   "cell_type": "markdown",
   "metadata": {},
   "source": [
    "## What is Recursion?"
   ]
  },
  {
   "cell_type": "markdown",
   "metadata": {},
   "source": [
    "- Definition: solving a problem by breaking it down into smaller instances of the exact same problem\n",
    "- Divides problem into smaller pieces and calls itself for each piece\n",
    "- Each Recursive Method has a base case and recursive method\n",
    "    - Base case: condition that terminates the problem, the last time the function is called\n",
    "    - Recursive case is each time the function is called with a smaller version of the problem"
   ]
  },
  {
   "cell_type": "markdown",
   "metadata": {},
   "source": [
    "## Recursion vs Iteration"
   ]
  },
  {
   "cell_type": "markdown",
   "metadata": {},
   "source": [
    "- Recursion is easier to read\n",
    "- Trade Offs:\n",
    "    - Speed and memory\n",
    "    - Recursion requires a call stack\n",
    "- Call stack: keeps track of all previous function calls\n",
    "    - results of recursive calls are needed"
   ]
  },
  {
   "cell_type": "markdown",
   "metadata": {},
   "source": [
    "### Hacks"
   ]
  },
  {
   "cell_type": "markdown",
   "metadata": {},
   "source": [
    "## Recursion to sort and Search"
   ]
  },
  {
   "cell_type": "markdown",
   "metadata": {},
   "source": [
    "### Binary Search"
   ]
  },
  {
   "cell_type": "markdown",
   "metadata": {},
   "source": [
    "- Binary Search repeatedly divides the list in two\n",
    "- must be presorted"
   ]
  },
  {
   "cell_type": "markdown",
   "metadata": {},
   "source": [
    "### Binary Search Iteration\n"
   ]
  },
  {
   "cell_type": "code",
   "execution_count": null,
   "metadata": {},
   "outputs": [],
   "source": [
    "public int binarySearch(int[] array, int target) {\n",
    "int low = 0;\n",
    "int high = array.length - 1;\n",
    "while (low <= high) {\n",
    "  int mid = (low + high) / 2;\n",
    "  if (array[mid] == target) {\n",
    "    return mid;\n",
    "  } else if (target < array[mid]) {\n",
    "    high = mid - 1;\n",
    "  } else {\n",
    "    low = mid + 1;\n",
    "  }\n",
    "}\n",
    "return -1;\n",
    "}\n"
   ]
  },
  {
   "cell_type": "markdown",
   "metadata": {},
   "source": [
    "### Binary Search Recursion"
   ]
  },
  {
   "cell_type": "code",
   "execution_count": null,
   "metadata": {},
   "outputs": [],
   "source": [
    "public int binarySearch(int[] array, int target, int low, int high) {\n",
    "    if (low > high) {\n",
    "      return -1;\n",
    "    }\n",
    "    int mid = (low + high) / 2;\n",
    "    if (array[mid] == target) {\n",
    "      return mid;\n",
    "    } else if (target < array[mid]) {\n",
    "      return binarySearch(array, target, low, mid - 1);\n",
    "    } else {\n",
    "      return binarySearch(array, target, mid + 1, high);\n",
    "    }\n",
    "  }\n",
    "  "
   ]
  }
 ],
 "metadata": {
  "kernelspec": {
   "display_name": "Java",
   "language": "java",
   "name": "java"
  },
  "language_info": {
   "name": "java"
  },
  "orig_nbformat": 4
 },
 "nbformat": 4,
 "nbformat_minor": 2
}

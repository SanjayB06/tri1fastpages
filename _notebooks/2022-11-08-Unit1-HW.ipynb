{
 "cells": [
  {
   "cell_type": "code",
   "execution_count": 1,
   "metadata": {
    "vscode": {
     "languageId": "java"
    }
   },
   "outputs": [],
   "source": [
    "import java.util.*;\n"
   ]
  },
  {
   "cell_type": "code",
   "execution_count": 2,
   "metadata": {
    "vscode": {
     "languageId": "java"
    }
   },
   "outputs": [],
   "source": [
    "\n",
    "public class GradeCalculator {\n",
    "    public static void main(String[] args) {\n",
    "        Scanner sc = new Scanner(System.in);\n",
    "        System.out.println(\"Is the final in the tests category (true/false)?\");\n",
    "        boolean finalIsTest = sc.nextBoolean();\n",
    "        \n",
    "        if (finalIsTest) {\n",
    "            System.out.println(\"What is your current grade?\");\n",
    "            double grade = sc.nextDouble();\n",
    "            System.out.println(\"How much percent of your grade is the tests category?\");\n",
    "            int testsPercent = sc.nextInt();\n",
    "            System.out.println(\"What is your current grade (in tests category)?\");\n",
    "            double testsGrade = sc.nextDouble();\n",
    "            System.out.println(\"How many points is in the tests category currently?\");\n",
    "            int testsPoints = sc.nextInt();\n",
    "            System.out.println(\"How many points is the final?\");\n",
    "            int finalPoints = sc.nextInt();\n",
    "            System.out.println(\"What is your desired grade?\");\n",
    "            double desiredGrade = sc.nextDouble();\n",
    "            \n",
    "            double percentNeeded = desiredGrade - (grade - testsGrade * testsPercent/100.0);\n",
    "            double testPointsNeeded = (percentNeeded/testsPercent) * (testsPoints + finalPoints);\n",
    "            double finalPointsNeeded = testPointsNeeded - testsPoints;\n",
    "            System.out.println(\"You need a \" + finalPointsNeeded + \" on the final.\");\n",
    "            \n",
    "        } else {\n",
    "            System.out.println(\"What is your current grade?\");\n",
    "            double grade = sc.nextDouble();\n",
    "            System.out.println(\"How much percent of your grade is the final?\");\n",
    "            int finalPercent = sc.nextInt();\n",
    "            System.out.println(\"What is your desired grade?\");\n",
    "            double target = sc.nextDouble();\n",
    "            \n",
    "            double percentNeeded = target - (grade/100.0)*(100.0-finalPercent);\n",
    "            double gradeNeeded = 100.0 * (percentNeeded/finalPercent);\n",
    "            System.out.println(\"You need a \" + gradeNeeded + \" on the test.\");\n",
    "        }\n",
    "    }\n",
    "}"
   ]
  }
 ],
 "metadata": {
  "kernelspec": {
   "display_name": "Java",
   "language": "java",
   "name": "java"
  },
  "language_info": {
   "codemirror_mode": "java",
   "file_extension": ".jshell",
   "mimetype": "text/x-java-source",
   "name": "Java",
   "pygments_lexer": "java",
   "version": "18.0.2+0"
  },
  "orig_nbformat": 4
 },
 "nbformat": 4,
 "nbformat_minor": 2
}

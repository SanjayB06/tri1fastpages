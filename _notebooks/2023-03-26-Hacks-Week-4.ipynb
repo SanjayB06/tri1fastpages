{
 "cells": [
  {
   "cell_type": "markdown",
   "metadata": {},
   "source": [
    "# Week 4 Hacks"
   ]
  },
  {
   "cell_type": "markdown",
   "metadata": {},
   "source": [
    "## Linked Lists"
   ]
  },
  {
   "cell_type": "code",
   "execution_count": 2,
   "metadata": {
    "vscode": {
     "languageId": "java"
    }
   },
   "outputs": [
    {
     "name": "stdout",
     "output_type": "stream",
     "text": [
      "[Strings, Data, BST]\n"
     ]
    }
   ],
   "source": [
    "import java.util.LinkedList;\n",
    "\n",
    "LinkedList<String> testlink = new LinkedList<String>();\n",
    "\n",
    "testlink.add(\"Strings\");\n",
    "testlink.add(\"Data\");\n",
    "testlink.add(\"BST\");\n",
    "\n",
    "System.out.println(testlink)\n"
   ]
  },
  {
   "cell_type": "code",
   "execution_count": 3,
   "metadata": {
    "vscode": {
     "languageId": "java"
    }
   },
   "outputs": [
    {
     "name": "stdout",
     "output_type": "stream",
     "text": [
      "[Data, BST]\n"
     ]
    }
   ],
   "source": [
    "testlink.remove(); \n",
    "System.out.println(testlink)\n"
   ]
  },
  {
   "cell_type": "code",
   "execution_count": 4,
   "metadata": {
    "vscode": {
     "languageId": "java"
    }
   },
   "outputs": [
    {
     "name": "stdout",
     "output_type": "stream",
     "text": [
      "[]\n"
     ]
    }
   ],
   "source": [
    "testlink.clear();\n",
    "System.out.println(testlink)\n"
   ]
  },
  {
   "cell_type": "code",
   "execution_count": 5,
   "metadata": {
    "vscode": {
     "languageId": "java"
    }
   },
   "outputs": [
    {
     "ename": "EvalException",
     "evalue": "null",
     "output_type": "error",
     "traceback": [
      "\u001b[1m\u001b[31m---------------------------------------------------------------------------\u001b[0m",
      "\u001b[1m\u001b[31mjava.util.NoSuchElementException: null\u001b[0m",
      "\u001b[1m\u001b[31m\tat java.base/java.util.LinkedList.getFirst(LinkedList.java:248)\u001b[0m",
      "\u001b[1m\u001b[31m\tat .(#26:1)\u001b[0m"
     ]
    }
   ],
   "source": [
    "System.out.println(testlink.getFirst());\n",
    "System.out.println(testlink.getLast());\n"
   ]
  },
  {
   "cell_type": "markdown",
   "metadata": {},
   "source": [
    "## Queues"
   ]
  },
  {
   "cell_type": "code",
   "execution_count": 10,
   "metadata": {
    "vscode": {
     "languageId": "java"
    }
   },
   "outputs": [
    {
     "name": "stdout",
     "output_type": "stream",
     "text": [
      "[BST Tutorial, Checkpoint 1, Wrapper Classes]\n"
     ]
    }
   ],
   "source": [
    "Queue<String> Articles = new LinkedList<String>();\n",
    "\n",
    "Articles.add(\"BST Tutorial\");\n",
    "Articles.add(\"Checkpoint 1\");\n",
    "Articles.add(\"Wrapper Classes\");\n",
    "\n",
    "System.out.println(Articles);"
   ]
  },
  {
   "cell_type": "code",
   "execution_count": 11,
   "metadata": {
    "vscode": {
     "languageId": "java"
    }
   },
   "outputs": [
    {
     "name": "stdout",
     "output_type": "stream",
     "text": [
      "[Checkpoint 1, Wrapper Classes]\n",
      "false\n"
     ]
    }
   ],
   "source": [
    "Articles.poll(); \n",
    "System.out.println(Articles);\n",
    "\n",
    "System.out.println(Articles.contains(\"BST Tutorial\"));\n"
   ]
  },
  {
   "cell_type": "markdown",
   "metadata": {},
   "source": [
    "## Stacks"
   ]
  },
  {
   "cell_type": "code",
   "execution_count": 12,
   "metadata": {
    "vscode": {
     "languageId": "java"
    }
   },
   "outputs": [
    {
     "name": "stdout",
     "output_type": "stream",
     "text": [
      "[C++, Java, HTML, Javascript]\n"
     ]
    }
   ],
   "source": [
    "import java.util.Stack;\n",
    "Stack<String> tags = new Stack<String>();\n",
    "\n",
    "tags.add(\"C++\");\n",
    "tags.add(\"Java\");\n",
    "tags.add(\"HTML\");\n",
    "tags.add(\"Javascript\");\n",
    "\n",
    "System.out.println(tags);"
   ]
  },
  {
   "cell_type": "code",
   "execution_count": 13,
   "metadata": {
    "vscode": {
     "languageId": "java"
    }
   },
   "outputs": [
    {
     "name": "stdout",
     "output_type": "stream",
     "text": [
      "Javascript\n",
      "[C++, Java, HTML]\n",
      "Java\n",
      "3\n"
     ]
    }
   ],
   "source": [
    "System.out.println(tags.pop()); \n",
    "System.out.println(tags);\n",
    "System.out.println(tags.set(1, \"Python\")); \n",
    "System.out.println(tags.size());\n"
   ]
  },
  {
   "cell_type": "code",
   "execution_count": null,
   "metadata": {
    "vscode": {
     "languageId": "java"
    }
   },
   "outputs": [],
   "source": []
  },
  {
   "cell_type": "markdown",
   "metadata": {},
   "source": [
    "## Collectables"
   ]
  },
  {
   "cell_type": "code",
   "execution_count": 16,
   "metadata": {
    "vscode": {
     "languageId": "java"
    }
   },
   "outputs": [
    {
     "name": "stdout",
     "output_type": "stream",
     "text": [
      "Sanjay B\n",
      "Evan Y\n",
      "Lionel Messi\n"
     ]
    }
   ],
   "source": [
    "public class CancodeUser<T> {\n",
    "    private T user; \n",
    "    \n",
    "    public CancodeUser(T user) {\n",
    "       this.user = user;\n",
    "    }\n",
    "    \n",
    "    public T getUser() {\n",
    "       return user;\n",
    "    }\n",
    "    \n",
    "    public void setUser(T user) {\n",
    "       this.user = user;\n",
    "    }\n",
    "    \n",
    "    public static void main(String[] args) { \n",
    "       CancodeUser<String> user1 = new CancodeUser<>(\"Sanjay B\");\n",
    "       CancodeUser<String> user2 = new CancodeUser<>(\"Evan Y\");\n",
    "       CancodeUser<String> user3 = new CancodeUser<>(\"Lionel Messi\");\n",
    " \n",
    "       System.out.println(user1.getUser()); \n",
    "       System.out.println(user2.getUser());\n",
    "       System.out.println(user3.getUser());\n",
    "    }\n",
    " }\n",
    "CancodeUser.main(null);"
   ]
  }
 ],
 "metadata": {
  "kernelspec": {
   "display_name": "Java",
   "language": "java",
   "name": "java"
  },
  "language_info": {
   "codemirror_mode": "java",
   "file_extension": ".jshell",
   "mimetype": "text/x-java-source",
   "name": "Java",
   "pygments_lexer": "java",
   "version": "18.0.2+0"
  },
  "orig_nbformat": 4
 },
 "nbformat": 4,
 "nbformat_minor": 2
}

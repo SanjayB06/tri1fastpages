{
 "cells": [
  {
   "cell_type": "code",
   "execution_count": 8,
   "id": "8bf10042",
   "metadata": {},
   "outputs": [
    {
     "name": "stdout",
     "output_type": "stream",
     "text": [
      "Python 3.9.12\n",
      "Python 2.7.18\n",
      "javac 18.0.2\n",
      "openjdk 18.0.2 2022-07-19\n",
      "OpenJDK Runtime Environment Homebrew (build 18.0.2+0)\n",
      "OpenJDK 64-Bit Server VM Homebrew (build 18.0.2+0, mixed mode, sharing)\n",
      "conda 4.13.0\n",
      "Selected Jupyter core packages...\n",
      "IPython          : 8.2.0\n",
      "ipykernel        : 6.9.1\n",
      "ipywidgets       : 7.6.5\n",
      "jupyter_client   : 6.1.12\n",
      "jupyter_core     : 4.9.2\n",
      "jupyter_server   : 1.13.5\n",
      "jupyterlab       : 3.3.2\n",
      "nbclient         : 0.5.13\n",
      "nbconvert        : 6.4.4\n",
      "nbformat         : 5.3.0\n",
      "notebook         : 6.4.8\n",
      "qtconsole        : 5.3.0\n",
      "traitlets        : 5.1.1\n",
      "Available kernels:\n",
      "  bash          /Users/smb/Library/Jupyter/kernels/bash\n",
      "  java          /Users/smb/Library/Jupyter/kernels/java\n",
      "  javascript    /Users/smb/Library/Jupyter/kernels/javascript\n",
      "  python3       /Users/smb/opt/anaconda3/share/jupyter/kernels/python3\n"
     ]
    }
   ],
   "source": [
    "python --version\n",
    "python2 --version\n",
    "javac --version\n",
    "java --version\n",
    "conda --version\n",
    "jupyter --version\n",
    "\n",
    "jupyter kernelspec list"
   ]
  },
  {
   "cell_type": "code",
   "execution_count": null,
   "id": "baffdbcf",
   "metadata": {},
   "outputs": [],
   "source": []
  }
 ],
 "metadata": {
  "kernelspec": {
   "display_name": "Bash",
   "language": "bash",
   "name": "bash"
  },
  "language_info": {
   "codemirror_mode": "shell",
   "file_extension": ".sh",
   "mimetype": "text/x-sh",
   "name": "bash"
  }
 },
 "nbformat": 4,
 "nbformat_minor": 5
}

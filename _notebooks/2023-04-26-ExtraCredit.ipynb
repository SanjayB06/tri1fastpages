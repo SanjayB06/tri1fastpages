{
 "cells": [
  {
   "cell_type": "markdown",
   "metadata": {},
   "source": [
    "# Extra Credit Modifying Book Class"
   ]
  },
  {
   "cell_type": "code",
   "execution_count": 1,
   "metadata": {
    "vscode": {
     "languageId": "java"
    }
   },
   "outputs": [
    {
     "name": "stdout",
     "output_type": "stream",
     "text": [
      "Food name: 'LeBron James'. Food ID: 1. Entry time: Thu Apr 27 12:40:54 PDT 2023\n",
      "Food name: 'Lionel Messi'. Food ID: 2. Entry time: Thu Apr 27 12:40:54 PDT 2023\n",
      "2\n"
     ]
    }
   ],
   "source": [
    "import java.util.Date;\n",
    "public class Food {\n",
    "    public String name;\n",
    "    public int id;\n",
    "    String entryTime;\n",
    "    private static List<Food> directory = new ArrayList<Food>();\n",
    "    public Food() {\n",
    "        this.name = null;\n",
    "        this.id = 0;\n",
    "    }\n",
    "    // Part 1.1 --> 1 argument constructor for name\n",
    "    public Food(String name) {\n",
    "        this.name = name;\n",
    "        // Part 1.3 --> Unique ID for each object by adding Food to arraylist\n",
    "        Food.directory.add(this);\n",
    "        this.id = this.getFoodCount();\n",
    "        // Part 2.4 --> Add time when Food enters directory\n",
    "        Date date = new Date();\n",
    "        this.entryTime = date.toString();\n",
    "    }\n",
    "    // Part 1.2 --> toString method to display Food name and id\n",
    "    public String toString(){\n",
    "        return (\"Food name: '\" + this.name + \"'. Food ID: \" + this.id + \". Entry time: \" + this.entryTime);\n",
    "    }\n",
    "    // Part 1.4 --> Public getter for Food count that returns the size of the array with the Food names\n",
    "    public static int getFoodCount() {\n",
    "        return Food.directory.size();\n",
    "    }\n",
    "    // Part 1.5 --> Tester Method that initializes 2 Foods...\n",
    "    public static void main(String args[]) {\n",
    "        Food lebron = new Food(\"Pizza\");\n",
    "        Food messi = new Food(\"Lionel Messi\");\n",
    "        System.out.println(lebron);\n",
    "        System.out.println(messi);\n",
    "        System.out.println(messi.getFoodCount());\n",
    "    }\n",
    "}\n",
    "Food.main(null);"
   ]
  },
  {
   "cell_type": "code",
   "execution_count": 2,
   "metadata": {
    "vscode": {
     "languageId": "java"
    }
   },
   "outputs": [
    {
     "name": "stdout",
     "output_type": "stream",
     "text": [
      "Before Directory Athlete Count: 2\n",
      "Athlete name: 'Kevin Durant'. Athlete ID: 3. draft: Round 1, Pick 2. Entry time: Wed Apr 26 11:43:48 PDT 2023\n",
      "Athlete name: 'Nikola Jokic'. Athlete ID: 4. draft: Round 2, Pick 41. Entry time: Wed Apr 26 11:43:48 PDT 2023\n",
      "After Directory Athlete Count: 4\n"
     ]
    }
   ],
   "source": [
    "// Part 2.1 --> Basketball runs the Constructor from Athlete\n",
    "class Basketball extends Athlete {\n",
    "    private String draft;\n",
    "    // Part 2.2 --> Instance variable Draft which is unique to Basketball\n",
    "    public Basketball(String name, String draft) {\n",
    "        super(name);\n",
    "        this.draft = draft;\n",
    "    }\n",
    "    // Part 2.3 --> Make Getters and Setters for Draft\n",
    "    public String getDraft() {\n",
    "        return this.draft;\n",
    "    }\n",
    "    public void setDraft(String draft) {\n",
    "        this.draft = draft;\n",
    "    }\n",
    "    @Override\n",
    "    public String toString() {\n",
    "        return (\"Athlete name: '\" + this.name + \"'. Athlete ID: \" + this.id + \". draft: \" + this.draft + \". Entry time: \" + this.entryTime);\n",
    "    }\n",
    "    // Part 2.5 for Basketball --> Define tester method to test all items, adds 2 basketball players,shows athlete count before and after, prints items in directory\n",
    "    public static void main(String [] args) {\n",
    "    // Part 2.6 --> Tester Method to test all items\n",
    "        System.out.println(\"Before Directory Athlete Count: \" + Athlete.getAthleteCount());  // directory count is truly static across inheritance\n",
    "        Basketball[] bballPlayers = {\n",
    "            new Basketball(\"Kevin Durant\", \"Round 1, Pick 2\"),\n",
    "            new Basketball(\"Nikola Jokic\", \"Round 2, Pick 41\")\n",
    "        };\n",
    "        for (int i = 0; i < bballPlayers.length; i++) {  // Use of conventional loop for variation\n",
    "            System.out.println(bballPlayers[i]);  // still works with toString()\n",
    "        }\n",
    "        System.out.println(\"After Directory Athlete Count: \" + Athlete.getAthleteCount());\n",
    "    }\n",
    "}\n",
    "Basketball.main(null);"
   ]
  },
  {
   "cell_type": "code",
   "execution_count": 3,
   "metadata": {
    "vscode": {
     "languageId": "java"
    }
   },
   "outputs": [
    {
     "name": "stdout",
     "output_type": "stream",
     "text": [
      "Before Directory Athlete Count: 4\n",
      "Athlete name: 'Antoine Griezmann'. Athlete ID: 5. academy: Real Sociedad. Entry time: Wed Apr 26 11:45:06 PDT 2023\n",
      "Athlete name: 'Rafael Leão'. Athlete ID: 6. academy: Sporting CP. Entry time: Wed Apr 26 11:45:06 PDT 2023\n",
      "After Directory Athlete Count: 6\n"
     ]
    }
   ],
   "source": [
    "// Part 2.1 --> Soccer runs the Constructor from Athlete\n",
    "class Soccer extends Athlete {\n",
    "    public String academy;\n",
    "    // Part 2.2 --> Instance variable Academy which is unique to Soccer\n",
    "    public Soccer(String name, String academy) {\n",
    "        super(name);\n",
    "        this.academy = academy;\n",
    "    }\n",
    "    // Part 2.3 --> Make Getters and Setters for Academy\n",
    "    public String getAcademy() {\n",
    "        return this.academy;\n",
    "    }\n",
    "    public void setAcademy(String academy) {\n",
    "        this.academy = academy;\n",
    "    }\n",
    "    @Override\n",
    "    public String toString() {\n",
    "        return (\"Athlete name: '\" + this.name + \"'. Athlete ID: \" + this.id + \". academy: \" + this.academy + \". Entry time: \" + this.entryTime);\n",
    "    }\n",
    "    // Part 2.5 for Soccer --> Define tester method to test all items, adds 2 soccer players,shows athlete count before and after, prints items in directory\n",
    "    public static void main(String [] args) {\n",
    "        // Part 2.6 --> Tester Method to test all items\n",
    "            System.out.println(\"Before Directory Athlete Count: \" + Athlete.getAthleteCount());\n",
    "            Soccer[] soccerPlayers = {    // Same technique as in Basketball tester\n",
    "                new Soccer(\"Antoine Griezmann\", \"Real Sociedad\"),\n",
    "                new Soccer(\"Rafael Leão\", \"Sporting CP\")\n",
    "            };\n",
    "            for (int i = 0; i < soccerPlayers.length; i++) {\n",
    "                System.out.println(soccerPlayers[i]);\n",
    "            }\n",
    "            System.out.println(\"After Directory Athlete Count: \" + Athlete.getAthleteCount());\n",
    "        }\n",
    "}\n",
    "Soccer.main(null);"
   ]
  }
 ],
 "metadata": {
  "kernelspec": {
   "display_name": "Java",
   "language": "java",
   "name": "java"
  },
  "language_info": {
   "codemirror_mode": "java",
   "file_extension": ".jshell",
   "mimetype": "text/x-java-source",
   "name": "Java",
   "pygments_lexer": "java",
   "version": "18.0.2+0"
  },
  "orig_nbformat": 4
 },
 "nbformat": 4,
 "nbformat_minor": 2
}

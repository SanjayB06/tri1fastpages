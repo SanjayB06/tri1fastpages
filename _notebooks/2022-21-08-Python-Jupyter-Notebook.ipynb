{
 "cells": [
  {
   "cell_type": "markdown",
   "id": "1339e7a4",
   "metadata": {},
   "source": [
    "# Python Notebook"
   ]
  },
  {
   "cell_type": "code",
   "execution_count": 1,
   "id": "9a9a1d6b",
   "metadata": {},
   "outputs": [
    {
     "name": "stdout",
     "output_type": "stream",
     "text": [
      "Hello World\n",
      "Sanjay's Python Notebook\n"
     ]
    }
   ],
   "source": [
    "print(\"Hello World\")\n",
    "print(\"Sanjay's Python Notebook\")"
   ]
  }
 ],
 "metadata": {
  "kernelspec": {
   "display_name": "Python 3.9.1 64-bit",
   "language": "python",
   "name": "python3"
  },
  "language_info": {
   "codemirror_mode": {
    "name": "ipython",
    "version": 3
   },
   "file_extension": ".py",
   "mimetype": "text/x-python",
   "name": "python",
   "nbconvert_exporter": "python",
   "pygments_lexer": "ipython3",
   "version": "3.9.1"
  },
  "vscode": {
   "interpreter": {
    "hash": "aee8b7b246df8f9039afb4144a1f6fd8d2ca17a180786b69acc140d282b71a49"
   }
  }
 },
 "nbformat": 4,
 "nbformat_minor": 5
}

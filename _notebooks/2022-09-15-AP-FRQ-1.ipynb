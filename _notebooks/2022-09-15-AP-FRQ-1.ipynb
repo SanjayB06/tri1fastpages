{
 "cells": [
  {
   "cell_type": "markdown",
   "metadata": {},
   "source": [
    "# 2007 FRQ No 1"
   ]
  },
  {
   "cell_type": "code",
   "execution_count": 9,
   "metadata": {
    "vscode": {
     "languageId": "java"
    }
   },
   "outputs": [
    {
     "name": "stdout",
     "output_type": "stream",
     "text": [
      "Is -5 a self divisor? false\n",
      "Is 105 a self divisior? false\n",
      "Is 143 a self divisior? false\n",
      "Is 128 a self divisior? true\n"
     ]
    }
   ],
   "source": [
    " /* * @param number the number to be tested\n",
    " * Precondition: number 0 >\n",
    " * @return true if every decimal digit of number is a divisor of number;\n",
    " * false otherwise\n",
    " */\n",
    "public static boolean isSelfDivisor(int number) {\n",
    "    int copynum = number;\n",
    "    while (number > 0) {\n",
    "        int digit = number % 10; // get last digit by getting remainder of division by 10 (int will eliminate decimal point)\n",
    "        if (digit ==0 || copynum % digit != 0) { // if remainder of number and digit isnt 0, not divisble\n",
    "            return false; // cant have 0, every digit must be divisible\n",
    "        }\n",
    "        number /= 10; // divide number by 10 for next iteration in order to get the next digit\n",
    "    }\n",
    "    return true;\n",
    "}\n",
    "\n",
    "// Testing method with different inputs\n",
    "System.out.println(\"Is 105 a self divisior? \" + isSelfDivisor(105)); // Testing number with 0 in it\n",
    "System.out.println(\"Is 143 a self divisior? \" + isSelfDivisor(143)); // Testing non self divisor\n",
    "System.out.println(\"Is 128 a self divisior? \" + isSelfDivisor(128)); // Testing given example of self divisor: 128"
   ]
  },
  {
   "cell_type": "code",
   "execution_count": 21,
   "metadata": {
    "vscode": {
     "languageId": "java"
    }
   },
   "outputs": [
    {
     "name": "stdout",
     "output_type": "stream",
     "text": [
      "First 5 Self Divisors from 13: \n",
      "15, 22, 24, 33, 36, "
     ]
    }
   ],
   "source": [
    "/* * @param start starting point for values to be checked\n",
    " * Precondition: start > 0\n",
    " * @param num the size of the array to be returned\n",
    " * Precondition: num 0 >\n",
    " * @return an array containing the first num integers ≥ start that are self-divisors\n",
    " */ \n",
    "\n",
    "public static int[] firstNumSelfDivisors(int start, int num) {\n",
    "    int[] sds = new int[num]; // starting empty list with lenght equal to num\n",
    "    int total = 0; // keeps track of self divisors found\n",
    "    while (total < num) {\n",
    "        if (isSelfDivisor(start)) {\n",
    "            sds[total] = start; // adds selected number \n",
    "            total ++; // incremements total added\n",
    "        }\n",
    "        start ++; // moves on to next number\n",
    "    }\n",
    "    return sds;\n",
    "}\n",
    "System.out.println(\"First 5 Self Divisors from 13: \");\n",
    "for (int n : firstNumSelfDivisors(13, 5))\n",
    "{\n",
    "  System.out.print(n + \", \");\n",
    "}\n"
   ]
  },
  {
   "cell_type": "code",
   "execution_count": 23,
   "metadata": {
    "vscode": {
     "languageId": "java"
    }
   },
   "outputs": [
    {
     "name": "stdout",
     "output_type": "stream",
     "text": [
      "Is 135 a self divisor? true\n",
      "Is 31 a self divisor? false\n",
      "5 self divisors after 33: \n",
      "33, 36, 44, 48, 55, "
     ]
    }
   ],
   "source": [
    "// FULL ANSWER\n",
    "public class selfDivisor {\n",
    "    /* * @param number the number to be tested\n",
    "    * Precondition: number 0 >\n",
    "    * @return true if every decimal digit of number is a divisor of number;\n",
    "    * false otherwise\n",
    "    */\n",
    "    public static boolean isSelfDivisor(int number) {\n",
    "        int copynum = number;\n",
    "        while (number > 0) {\n",
    "            int digit = number % 10; // get last digit by getting remainder of division by 10 (int will eliminate decimal point)\n",
    "            if (digit ==0 || copynum % digit != 0) { // if remainder of number and digit isnt 0, not divisble\n",
    "                return false; // cant have 0, every digit must be divisible\n",
    "            }\n",
    "            number /= 10; // divide number by 10 for next iteration in order to get the next digit\n",
    "        }\n",
    "        return true;\n",
    "    }\n",
    "\n",
    "    /* * @param start starting point for values to be checked\n",
    "    * Precondition: start > 0\n",
    "    * @param num the size of the array to be returned\n",
    "    * Precondition: num 0 >\n",
    "    * @return an array containing the first num integers ≥ start that are self-divisors\n",
    "    */ \n",
    "\n",
    "    public static int[] firstNumSelfDivisors(int start, int num) {\n",
    "        int[] sds = new int[num]; // starting empty list with lenght equal to num\n",
    "        int total = 0; // keeps track of self divisors found\n",
    "        while (total < num) {\n",
    "            if (isSelfDivisor(start)) {\n",
    "                sds[total] = start; // adds selected number \n",
    "                total ++; // incremements total added\n",
    "            }\n",
    "            start ++; // moves on to next number\n",
    "        }\n",
    "        return sds;\n",
    "    }\n",
    "    public static void main(String[] args) {\n",
    "        System.out.println(\"Is 135 a self divisor? \" + isSelfDivisor(135));\n",
    "        System.out.println(\"Is 31 a self divisor? \" + isSelfDivisor(31));\n",
    "    \n",
    "        // print the array\n",
    "        System.out.println(\"5 self divisors after 33: \");\n",
    "        for (int n : firstNumSelfDivisors(33, 5))\n",
    "        {\n",
    "        System.out.print(n + \", \");\n",
    "        }\n",
    "  }\n",
    "\n",
    "}\n",
    "\n",
    "selfDivisor.main(null)"
   ]
  }
 ],
 "metadata": {
  "kernelspec": {
   "display_name": "Java",
   "language": "java",
   "name": "java"
  },
  "language_info": {
   "codemirror_mode": "java",
   "file_extension": ".jshell",
   "mimetype": "text/x-java-source",
   "name": "Java",
   "pygments_lexer": "java",
   "version": "18.0.2+0"
  },
  "orig_nbformat": 4,
  "vscode": {
   "interpreter": {
    "hash": "b0fa6594d8f4cbf19f97940f81e996739fb7646882a419484c72d19e05852a7e"
   }
  }
 },
 "nbformat": 4,
 "nbformat_minor": 2
}

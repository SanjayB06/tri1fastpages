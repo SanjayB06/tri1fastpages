{
 "cells": [
  {
   "cell_type": "markdown",
   "metadata": {},
   "source": [
    "# Sorting Algs"
   ]
  },
  {
   "cell_type": "code",
   "execution_count": null,
   "metadata": {
    "vscode": {
     "languageId": "java"
    }
   },
   "outputs": [],
   "source": [
    "public class BubbleSort{ \n",
    "    public static void main(String[] args)\n",
    "    {\n",
    "        int[] bubble_arr = {23,56,21,34,678,2,4,7,2235,996,446,999,6574,87,67,902,8754};\n",
    "        System.out.print(\"Original: \");\n",
    "        for(int index=0; index<bubble_arr.length; index++){\n",
    "            System.out.print(bubble_arr[index] + \", \");\n",
    "        }\n",
    "        System.out.println();\n",
    "\n",
    "        boolean swap = true;\n",
    "        while(swap)\n",
    "        {\n",
    "            swap = false;\n",
    "            for(int i=0; i<bubble_arr.length-1; i++){\n",
    "                if (bubble_arr[i]>bubble_arr[i+1]){\n",
    "                    swap = true;\n",
    "                    int temp = bubble_arr[i];\n",
    "                    bubble_arr[i] = bubble_arr[i+1];\n",
    "                    bubble_arr[i+1] = temp;\n",
    "                }\n",
    "            }\n",
    "        }\n",
    "        System.out.print(\"Sorted: \");\n",
    "        for(int index=0; index<bubble_arr.length; index++){\n",
    "            System.out.print(bubble_arr[index] + \", \");\n",
    "        }\n",
    "\n",
    "        }\n",
    "    \n",
    "}\n",
    "\n",
    "BubbleSort.main(null);\n"
   ]
  },
  {
   "cell_type": "markdown",
   "metadata": {},
   "source": [
    "## Big O Analysis\n",
    "\n",
    "The worst-case time complexity of Bubble Sort is O(n^2).\n",
    "\n",
    "- worst case for outer loop is n-1\n",
    "\n",
    "- worst case for inner loop is all swaps. meaning (n-1)(n-2)/2. \n",
    "\n",
    "- Therefore, worst case is O(n^2)\n",
    "\n",
    "\n",
    "the time complexity of the Bubble Sort algorithm is O(n^2).\n",
    "\n",
    "\n",
    "\n"
   ]
  },
  {
   "cell_type": "code",
   "execution_count": null,
   "metadata": {
    "vscode": {
     "languageId": "java"
    }
   },
   "outputs": [],
   "source": []
  },
  {
   "cell_type": "code",
   "execution_count": null,
   "metadata": {
    "vscode": {
     "languageId": "java"
    }
   },
   "outputs": [],
   "source": []
  },
  {
   "cell_type": "code",
   "execution_count": null,
   "metadata": {
    "vscode": {
     "languageId": "java"
    }
   },
   "outputs": [],
   "source": [
    "public class Insertion{\n",
    "    public static void main(String[] args){\n",
    "      int[] array = {16,3,123,617,261,51,126,6,23,2,16,1236};\n",
    "      \n",
    "      for(int i = 0; i<array.length; i++){\n",
    "          System.out.print(array[i] + \", \");\n",
    "      }\n",
    "      System.out.println();\n",
    "\n",
    "      \n",
    "      for(int index=1; index<array.length; index++){\n",
    "        for(int sorted_index = index; sorted_index>0; sorted_index--){\n",
    "            if(array[sorted_index]<array[sorted_index-1]){\n",
    "                int temp = array[sorted_index];\n",
    "                array[sorted_index] = array[sorted_index-1];\n",
    "                array[sorted_index-1] = temp;\n",
    "            }\n",
    "        }\n",
    "      }\n",
    "      \n",
    "      for (int i = 0; i<array.length; i++){\n",
    "        System.out.print(array[i] + \", \");\n",
    "      }\n",
    "    \n",
    "    }\n",
    "  }\n",
    "  \n",
    "  \n",
    "  \n",
    "  Insertion.main(null);\n"
   ]
  },
  {
   "cell_type": "markdown",
   "metadata": {},
   "source": [
    "## Big O analysis\n",
    "\n",
    "- worst case for first loop is every element, O(n)\n",
    "\n",
    "- second for loop iterates through array (n-1) times\n",
    "\n",
    "- worst case is if every element is moved to the beginning\n",
    "\n",
    "Worst case is O(n^2)\n",
    "\n",
    " time complexity of the Insertion Sort algorithm  is O(n^2).\n",
    "\n",
    "\n",
    "\n"
   ]
  },
  {
   "cell_type": "code",
   "execution_count": 1,
   "metadata": {
    "vscode": {
     "languageId": "java"
    }
   },
   "outputs": [
    {
     "name": "stdout",
     "output_type": "stream",
     "text": [
      "236, 16, 3156, 3325135, 51, 24567, 12, 3251, 15, \n",
      "12, 15, 16, 51, 236, 3156, 3251, 24567, 3325135, "
     ]
    }
   ],
   "source": [
    "public class Selection {\n",
    "    public static void main(String[] args){\n",
    "        int[] array = {236,16,3156,3325135,51,24567,12,3251,15};\n",
    "        for (int i = 0; i<array.length; i++){\n",
    "            System.out.print(array[i] + \", \");\n",
    "          }\n",
    "          System.out.println();\n",
    "        int times = array.length;\n",
    "        for (int outer=times; outer>0; outer--){\n",
    "            int min = 0xFFFFFF;\n",
    "            int min_idx = 0;\n",
    "            for(int i=0; i<outer; i++){\n",
    "                if(array[i] < min){\n",
    "                    min = array[i];\n",
    "                    min_idx = i;\n",
    "                }\n",
    "            }\n",
    "            for (int j = min_idx+1; j < array.length; j++){\n",
    "                        array[j-1]=array[j];\n",
    "            }\n",
    "            array[array.length-1] = min;\n",
    "        }\n",
    "        for (int i = 0; i<array.length; i++){\n",
    "            System.out.print(array[i] + \", \");\n",
    "          }\n",
    "    }\n",
    "}\n",
    "\n",
    "Selection.main(null);\n"
   ]
  },
  {
   "cell_type": "markdown",
   "metadata": {},
   "source": [
    "## big o analysis\n",
    "\n",
    "The given code implements the Selection Sort algorithm for sorting an array of integers. The worst-case time complexity of Selection Sort is O(n^2) where n is the number of elements in the array.\n",
    "\n",
    "- first for loop takes O(n) times\n",
    "\n",
    "- inner loop iterates over unsorted portion of the array (n-1)\n",
    "\n",
    "- complexity is O(n^2)\n",
    "the time complexity of the Selection Sort algorithm is O(n^2).\n",
    "\n"
   ]
  },
  {
   "cell_type": "code",
   "execution_count": null,
   "metadata": {
    "vscode": {
     "languageId": "java"
    }
   },
   "outputs": [],
   "source": [
    "public class MergeSort {\n",
    "    public static void main(String[] args){\n",
    "        int[] arr = {12,126,51237,32635,164,236,126,26,714};\n",
    "        mergeSort(arr, 0, arr.length-1);\n",
    "        for(int i=0; i<arr.length; i++){\n",
    "            System.out.print(arr[i] + \", \");\n",
    "        }\n",
    "    }\n",
    "\n",
    "    public static void mergeSort(int[] arr, int left, int right){\n",
    "        if(left < right){\n",
    "            int mid = (left+right)/2;\n",
    "            mergeSort(arr, left, mid);\n",
    "            mergeSort(arr, mid+1, right);\n",
    "            merge(arr, left, mid, right);\n",
    "        }\n",
    "    }\n",
    "\n",
    "    public static void merge(int[] arr, int left, int mid, int right){\n",
    "        int[] temp = new int[right-left+1];\n",
    "        int i = left;\n",
    "        int j = mid+1;\n",
    "        int k = 0;\n",
    "\n",
    "        while(i <= mid && j <= right){\n",
    "            if(arr[i] < arr[j]){\n",
    "                temp[k] = arr[i];\n",
    "                k++;\n",
    "                i++;\n",
    "            }\n",
    "            else{\n",
    "                temp[k] = arr[j];\n",
    "                k++;\n",
    "                j++;\n",
    "            }\n",
    "        }\n",
    "\n",
    "        while(i <= mid){\n",
    "            temp[k] = arr[i];\n",
    "            k++;\n",
    "            i++;\n",
    "        }\n",
    "\n",
    "        while(j <= right){\n",
    "            temp[k] = arr[j];\n",
    "            k++;\n",
    "            j++;\n",
    "        }\n",
    "\n",
    "        for(int x=0; x<temp.length; x++){\n",
    "            arr[left+x] = temp[x];\n",
    "        }\n",
    "    }\n",
    "}\n"
   ]
  },
  {
   "cell_type": "markdown",
   "metadata": {},
   "source": [
    "## Big O analysis\n",
    "\n",
    "The big O time complexity of Merge Sort is O(n log n), where n is the number of elements in the array.\n",
    "\n",
    "This is because Merge Sort recursively divides the input by half until each of the arrays only has one value. The reason for this is because Merge Sort algorthim uses linear time 0(n) to merge the subarrays into a sorted array where n is the total number of elements in both subarrays. By using this we find that the time complexity of Merge Sort is O(n log n).\n",
    "\n",
    "\n",
    "\n",
    "\n"
   ]
  },
  {
   "cell_type": "code",
   "execution_count": 2,
   "metadata": {
    "vscode": {
     "languageId": "java"
    }
   },
   "outputs": [
    {
     "name": "stdout",
     "output_type": "stream",
     "text": [
      "Run 1\n",
      "Look up time: 875 nanoseconds\n",
      "Binary search time: 2000 nanoseconds\n",
      "Run 2\n",
      "Look up time: 1375 nanoseconds\n",
      "Binary search time: 1792 nanoseconds\n",
      "Run 3\n",
      "Look up time: 500 nanoseconds\n",
      "Binary search time: 1584 nanoseconds\n",
      "Run 4\n",
      "Look up time: 584 nanoseconds\n",
      "Binary search time: 1875 nanoseconds\n",
      "Run 5\n",
      "Look up time: 1000 nanoseconds\n",
      "Binary search time: 2292 nanoseconds\n",
      "Run 6\n",
      "Look up time: 1125 nanoseconds\n",
      "Binary search time: 2166 nanoseconds\n",
      "Run 7\n",
      "Look up time: 541 nanoseconds\n",
      "Binary search time: 1667 nanoseconds\n",
      "Run 8\n",
      "Look up time: 541 nanoseconds\n",
      "Binary search time: 1625 nanoseconds\n",
      "Run 9\n",
      "Look up time: 1000 nanoseconds\n",
      "Binary search time: 2167 nanoseconds\n",
      "Run 10\n",
      "Look up time: 1250 nanoseconds\n",
      "Binary search time: 2000 nanoseconds\n",
      "Run 11\n",
      "Look up time: 1042 nanoseconds\n",
      "Binary search time: 2458 nanoseconds\n",
      "Run 12\n",
      "Look up time: 1125 nanoseconds\n",
      "Binary search time: 2958 nanoseconds\n"
     ]
    }
   ],
   "source": [
    "import java.util.HashMap;\n",
    "import java.lang.Integer;\n",
    "import java.util.Scanner;\n",
    "\n",
    "public class Hash {\n",
    "    public static void main(String[] args){\n",
    "        HashMap<Integer, Integer> numberhash = new HashMap<Integer, Integer>();\n",
    "        int[] list = new int[5000];\n",
    "\n",
    "        for (int i = 0; i < list.length; i++) {\n",
    "            Integer value = (int) (Math.random() * 5000);\n",
    "            numberhash.put(value, value);\n",
    "            list[i] = value;\n",
    "        }\n",
    "        for (int i = 0; i<12; i++) {\n",
    "            System.out.println(\"Run \" + (i+1));\n",
    "            Integer target = (int) (Math.random() * 5000);\n",
    "            long lookUpTime = (lookUp(numberhash, target));\n",
    "            System.out.println(\"Look up time: \" + lookUpTime + \" nanoseconds\");\n",
    "            long binarySearchTime = (binarySearchTime(list, target));\n",
    "            System.out.println(\"Binary search time: \" + binarySearchTime + \" nanoseconds\");    \n",
    "        }\n",
    "        \n",
    "    }\n",
    "\n",
    "    public static long lookUp(HashMap<Integer, Integer> hashmap, Integer value) {\n",
    "        long start = System.nanoTime();\n",
    "        hashmap.containsKey(value);\n",
    "        long end = System.nanoTime();\n",
    "        return (end - start);\n",
    "    }\n",
    "\n",
    "    public static long binarySearchTime(int[] list, Integer value) {\n",
    "        long start = System.nanoTime();\n",
    "\n",
    "        int low = 0;\n",
    "        int high = list.length - 1;\n",
    "        int middle = (low + high) / 2;\n",
    "        while (low <= high) {\n",
    "            if (list[middle] < value) {\n",
    "                low = middle + 1;\n",
    "            } else if (list[middle] == value) {\n",
    "                break;\n",
    "            } else {\n",
    "                high = middle - 1;\n",
    "            }\n",
    "            middle = (low + high) / 2;\n",
    "        }\n",
    "        long end = System.nanoTime();\n",
    "        return (end - start);\n",
    "    }\n",
    "}\n",
    "Hash.main(null);\n"
   ]
  }
 ],
 "metadata": {
  "kernelspec": {
   "display_name": "Java",
   "language": "java",
   "name": "java"
  },
  "language_info": {
   "codemirror_mode": "java",
   "file_extension": ".jshell",
   "mimetype": "text/x-java-source",
   "name": "Java",
   "pygments_lexer": "java",
   "version": "18.0.2+0"
  },
  "orig_nbformat": 4
 },
 "nbformat": 4,
 "nbformat_minor": 2
}

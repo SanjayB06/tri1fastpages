{
 "cells": [
  {
   "cell_type": "markdown",
   "id": "beaadf17",
   "metadata": {},
   "source": [
    "# Java Menu"
   ]
  },
  {
   "cell_type": "markdown",
   "id": "4e315467",
   "metadata": {},
   "source": [
    "# Java Menu"
   ]
  },
  {
   "cell_type": "code",
   "execution_count": 18,
   "id": "a4b204cd",
   "metadata": {
    "vscode": {
     "languageId": "java"
    }
   },
   "outputs": [
    {
     "ename": "CompilationException",
     "evalue": "",
     "output_type": "error",
     "traceback": [
      "\u001b[1m\u001b[30m|   \u001b[1m\u001b[30m\u001b[0m\u001b[1m\u001b[30m\u001b[41m\u001b[0m\u001b[1m\u001b[30mimport org.json.*;\u001b[0m",
      "\u001b[1m\u001b[31mpackage org.json does not exist\u001b[0m",
      ""
     ]
    }
   ],
   "source": [
    "import java.net.http.*;\n",
    "import java.util.Scanner;  \n"
   ]
  },
  {
   "cell_type": "code",
   "execution_count": 26,
   "id": "70bd8755",
   "metadata": {
    "vscode": {
     "languageId": "java"
    }
   },
   "outputs": [
    {
     "name": "stdout",
     "output_type": "stream",
     "text": [
      "-------------------------\n",
      "\n",
      "Soccer Info\n",
      "-------------------------\n",
      "\n",
      "1 - Premier League Scorers\n",
      "2 - La Liga Scorers\n",
      "3 - Champions Scorers \n",
      "4 - Bundesliga Scorers\n",
      "5 - Serie A Scorers\n",
      "6 - Goals Against Calculator\n",
      "7 - Shooting Percentage Calculator\n",
      "0 - Quit\n",
      "-------------------------\n",
      "\n",
      "7\n",
      "7: Enter Goals Scored and Shots Taken:\n",
      "5\n",
      "10\n",
      "Shooting Percentage: 0.5\n",
      "Unexpected choice, try again.\u001b[0m\n",
      "0\n",
      "0: Program Exiting...\u001b[0m\n"
     ]
    }
   ],
   "source": [
    "import java.util.Scanner; \n",
    "import java.lang.Math; \n",
    "\n",
    "\n",
    "public class Menu {\n",
    "    public final String DEFAULT = \"\\u001B[0m\";  \n",
    "    public final String[][] COLORS = { \n",
    "        {\"Default\",DEFAULT},\n",
    "        {\"Red\", \"\\u001B[31m\"}, \n",
    "        {\"Green\", \"\\u001B[32m\"}, \n",
    "        {\"Yellow\", \"\\u001B[33m\"}, \n",
    "        {\"Blue\", \"\\u001B[34m\"}, \n",
    "        {\"Purple\", \"\\u001B[35m\"}, \n",
    "        {\"Cyan\", \"\\u001B[36m\"}, \n",
    "        {\"White\", \"\\u001B[37m\"}, \n",
    "        {\"Reset\",\"\\u001B[0m\"},\n",
    "        {\"Liverpool\",\"\\033[1;91m\"},\n",
    "        {\"Tottenham\",\"\\033[0;107m\"},\n",
    "        {\"Real\",\"\\033[0;95m\"},\n",
    "        {\"Bayern\",\"\\033[0;101m\"},\n",
    "        {\"Dortmund\", \"\\033[0;93m\"},\n",
    "    };\n",
    "    public final int NAME = 0;\n",
    "    public final int ANSI = 1;  \n",
    "\n",
    "    public Menu() {\n",
    "        Scanner sc = new Scanner(System.in);  \n",
    "        \n",
    "        this.print();  \n",
    "        boolean quit = false;\n",
    "        while (!quit) {\n",
    "            try {  \n",
    "                int choice = sc.nextInt();  \n",
    "                System.out.print(\"\" + choice + \": \");\n",
    "                quit = this.action(choice);\n",
    "            } catch (Exception e) {\n",
    "                sc.nextLine(); \n",
    "                System.out.println(e + \": Not a number, try again.\");\n",
    "            }\n",
    "        }\n",
    "        sc.close();\n",
    "    }\n",
    "\n",
    "    private void print() {\n",
    "        System.out.println(\"-------------------------\\n\");\n",
    "        System.out.println(\"Soccer Info\");\n",
    "        System.out.println(\"-------------------------\\n\");\n",
    "        System.out.println(\"1 - Premier League Scorers\");\n",
    "        System.out.println(\"2 - La Liga Scorers\");\n",
    "        System.out.println(\"3 - Champions Scorers \");\n",
    "        System.out.println(\"4 - Bundesliga Scorers\");\n",
    "        System.out.println(\"5 - Serie A Scorers\");\n",
    "        System.out.println(\"6 - Goals Against Calculator\");\n",
    "        System.out.println(\"7 - Shooting Percentage Calculator\");\n",
    "        System.out.println(\"0 - Quit\");\n",
    "        System.out.println(\"-------------------------\\n\");\n",
    "    }\n",
    "\n",
    "    private boolean action(int selection) {\n",
    "        boolean quit = false;\n",
    "\n",
    "        switch (selection) { \n",
    "            case 0:  \n",
    "                System.out.print(\"Program Exiting...\");\n",
    "                quit = true;\n",
    "                break;\n",
    "            case 1:\n",
    "                System.out.println(COLORS[4][ANSI] + \"Premier League Top Scorers\" + COLORS[8][ANSI]);\n",
    "                \n",
    "                System.out.println(COLORS[9][ANSI] + \"\\t Mohamed Salah\" + COLORS[8][ANSI]);\n",
    "                System.out.println(\"\\t\" + COLORS[10][ANSI] + \"Son\" + COLORS[8][ANSI]);\n",
    "                System.out.println(COLORS[1][ANSI] + \"\\t Cristiano Ronaldo\" + COLORS[8][ANSI]);\n",
    "                System.out.println(\"\\t\" + COLORS[10][ANSI] + \"Harry Kane\" + COLORS[8][ANSI]);\n",
    "                System.out.println(COLORS[9][ANSI] + \"\\t Sadio Mane\" + COLORS[8][ANSI]);\n",
    "                break;\n",
    "            case 2:\n",
    "                System.out.println(COLORS[1][ANSI] + \"La Liga Top Scorers\" + COLORS[8][ANSI]);\n",
    "                System.out.println(COLORS[11][ANSI] + \"\\t Karim Benzema\" + COLORS[8][ANSI]);\n",
    "                System.out.println(\"\\t Iago Aspas\");\n",
    "                System.out.println(\"\\t Raul de Tomas\");\n",
    "                System.out.println(COLORS[11][ANSI] + \"\\t Vinicius\" + COLORS[8][ANSI]);\n",
    "                System.out.println(\"\\t Juanmi\");\n",
    "\n",
    "//                 for(int i = 0; i < COLORS.length; i++)  \n",
    "//                     System.out.print(COLORS[i][ANSI] + COLORS[i][NAME]);\n",
    "                break;\n",
    "            case 3:\n",
    "                \n",
    "                System.out.println(COLORS[6][ANSI] + \"Champions League Top Scorers\" + COLORS[8][ANSI]);\n",
    "                System.out.println(COLORS[11][ANSI] + \"\\t Karim Benzema\" + COLORS[8][ANSI]);\n",
    "                System.out.println(\"\\t \\u001B[37m\" + COLORS[12][ANSI] + \"Robert Lewangoalski\" + COLORS[8][ANSI]);\n",
    "                System.out.println(\"\\t Sébastien Haller\");\n",
    "                System.out.println(COLORS[9][ANSI] + \"\\t Mohamed Salah\" + COLORS[8][ANSI]);\n",
    "                System.out.println(\"\\t Christopher Nkunku\");\n",
    "\n",
    "\n",
    "//                 for (int i = 0; i < 20; i++) {  \n",
    "//                     int random = (int) (Math.random() * COLORS.length);  \n",
    "//                     try {\n",
    "//                         Thread.sleep(100);  \n",
    "//                     } catch (Exception e) {\n",
    "//                         System.out.println(e);\n",
    "//                     }\n",
    "//                     System.out.print(COLORS[random][ANSI] + \"#\");\n",
    "//                 }\n",
    "                break;\n",
    "            case 4:\n",
    "                System.out.println(COLORS[5][ANSI] + \"Bundesliga\" + COLORS[8][ANSI]);\n",
    "                System.out.println(\"\\t \\u001B[37m\" + COLORS[12][ANSI] + \"Robert Lewangoalski\" + COLORS[8][ANSI]);\n",
    "                System.out.println(\"\\t Patrick Schick\");\n",
    "                System.out.println(\"\\t \\033[0;93m\" + COLORS[13][ANSI] + \"Erling Haaland\" + COLORS[8][ANSI]);\n",
    "                System.out.println(\"\\t Anothny Modeste\");\n",
    "                System.out.println(\"\\t Christopher Nkunku\");\n",
    "\n",
    "\n",
    "                break;\n",
    "            case 5:\n",
    "                System.out.println(COLORS[2][ANSI] + \"Serie A\" + COLORS[8][ANSI]);\n",
    "                System.out.println(\"\\t Ciro Immobile\");\n",
    "                System.out.println(\"\\t Dušan Vlahović\");\n",
    "                System.out.println(\"\\t Lautaro Martínez\");\n",
    "                System.out.println(\"\\t Tammy Abraham\");\n",
    "                System.out.println(\"\\t Giovanni Simeone\");\n",
    "\n",
    "                break;\n",
    "            case 6:\n",
    "                Scanner myObj = new Scanner(System.in);\n",
    "\n",
    "                System.out.println(\"Enter Goals Against and Games Played:\");\n",
    "\n",
    "                int GoalsAgainst = myObj.nextInt();\n",
    "\n",
    "                double GamesPlayed = myObj.nextDouble();\n",
    "                myObj.close();\n",
    "                System.out.println(\"Goals Against Average: \" + GoalsAgainst/GamesPlayed);\n",
    "            case 7:\n",
    "                Scanner newObj = new Scanner(System.in);\n",
    "\n",
    "                System.out.println(\"Enter Goals Scored and Shots Taken:\");\n",
    "\n",
    "                int GoalsScored = newObj.nextInt();\n",
    "\n",
    "                double ShotsTaken = newObj.nextDouble();\n",
    "                newObj.close();\n",
    "                System.out.println(\"Shooting Percentage: \" + GoalsScored/ShotsTaken);\n",
    "\n",
    "            default:\n",
    "                System.out.print(\"Unexpected choice, try again.\");\n",
    "        }\n",
    "        System.out.println(DEFAULT);  \n",
    "        return quit;\n",
    "    }\n",
    "\n",
    "    static public void main(String[] args)  {  \n",
    "        new Menu(); \n",
    "    }\n",
    "\n",
    "}\n",
    "Menu.main(null);\n"
   ]
  },
  {
   "cell_type": "code",
   "execution_count": 24,
   "id": "5c010059",
   "metadata": {
    "vscode": {
     "languageId": "java"
    }
   },
   "outputs": [
    {
     "name": "stdout",
     "output_type": "stream",
     "text": [
      "{\"message\":\"You have exceeded the DAILY quota for Requests on your current plan, BASIC. Upgrade your plan at https:\\/\\/rapidapi.com\\/koukoulina001\\/api\\/world-cup1\"}\n"
     ]
    },
    {
     "ename": "CompilationException",
     "evalue": "",
     "output_type": "error",
     "traceback": [
      "\u001b[1m\u001b[30m|   \u001b[1m\u001b[30mfor (int i = 0; i< \u001b[0m\u001b[1m\u001b[30m\u001b[41mresponse.body().size\u001b[0m\u001b[1m\u001b[30m();i++) {\u001b[0m",
      "\u001b[1m\u001b[31mcannot find symbol\u001b[0m",
      "\u001b[1m\u001b[31m  symbol:   method size()\u001b[0m",
      ""
     ]
    }
   ],
   "source": [
    "\n",
    "List newList = new ArrayList();\n",
    "for (int i = 0; i< response.body().size();i++) {\n",
    "    System.out.println(i);\n",
    "}"
   ]
  },
  {
   "cell_type": "code",
   "execution_count": 17,
   "id": "3983594f",
   "metadata": {
    "vscode": {
     "languageId": "java"
    }
   },
   "outputs": [
    {
     "ename": "CompilationException",
     "evalue": "",
     "output_type": "error",
     "traceback": [
      "\u001b[1m\u001b[30m|   \u001b[1m\u001b[30mList<Integer> list = \u001b[0m\u001b[1m\u001b[30m\u001b[41mArrays.asList(response.body())\u001b[0m\u001b[1m\u001b[30m;\u001b[0m",
      "\u001b[1m\u001b[31mincompatible types: inference variable T has incompatible bounds\u001b[0m",
      "\u001b[1m\u001b[31m    equality constraints: java.lang.Integer\u001b[0m",
      "\u001b[1m\u001b[31m    lower bounds: java.lang.String\u001b[0m",
      ""
     ]
    }
   ],
   "source": []
  },
  {
   "cell_type": "code",
   "execution_count": null,
   "id": "a9cc4c6d",
   "metadata": {
    "vscode": {
     "languageId": "java"
    }
   },
   "outputs": [],
   "source": []
  },
  {
   "cell_type": "code",
   "execution_count": null,
   "id": "10106c8c",
   "metadata": {
    "vscode": {
     "languageId": "java"
    }
   },
   "outputs": [],
   "source": []
  }
 ],
 "metadata": {
  "kernelspec": {
   "display_name": "Java",
   "language": "java",
   "name": "java"
  },
  "language_info": {
   "codemirror_mode": "java",
   "file_extension": ".jshell",
   "mimetype": "text/x-java-source",
   "name": "Java",
   "pygments_lexer": "java",
   "version": "18.0.2+0"
  }
 },
 "nbformat": 4,
 "nbformat_minor": 5
}
